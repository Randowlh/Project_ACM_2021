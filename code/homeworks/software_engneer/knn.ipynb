{
 "cells": [
  {
   "cell_type": "code",
   "execution_count": 1,
   "id": "2a26c925",
   "metadata": {
    "_cell_guid": "b1076dfc-b9ad-4769-8c92-a6c4dae69d19",
    "_uuid": "8f2839f25d086af736a60e9eeb907d3b93b6e0e5",
    "execution": {
     "iopub.execute_input": "2021-09-27T05:35:03.627305Z",
     "iopub.status.busy": "2021-09-27T05:35:03.624940Z",
     "iopub.status.idle": "2021-09-27T05:35:03.643710Z",
     "shell.execute_reply": "2021-09-27T05:35:03.644347Z",
     "shell.execute_reply.started": "2021-09-27T05:28:11.704940Z"
    },
    "papermill": {
     "duration": 0.09564,
     "end_time": "2021-09-27T05:35:03.644727",
     "exception": false,
     "start_time": "2021-09-27T05:35:03.549087",
     "status": "completed"
    },
    "tags": []
   },
   "outputs": [
    {
     "name": "stdout",
     "output_type": "stream",
     "text": [
      "/kaggle/input/telco-customer-churn/WA_Fn-UseC_-Telco-Customer-Churn.csv\n"
     ]
    }
   ],
   "source": [
    "\n",
    "import numpy as np \n",
    "import pandas as pd"
   ]
  },
  {
   "cell_type": "code",
   "execution_count": 2,
   "id": "b2abb537",
   "metadata": {
    "execution": {
     "iopub.execute_input": "2021-09-27T05:35:03.851689Z",
     "iopub.status.busy": "2021-09-27T05:35:03.850881Z",
     "iopub.status.idle": "2021-09-27T05:35:05.595396Z",
     "shell.execute_reply": "2021-09-27T05:35:05.594587Z",
     "shell.execute_reply.started": "2021-09-27T05:28:11.737432Z"
    },
    "papermill": {
     "duration": 1.804705,
     "end_time": "2021-09-27T05:35:05.595570",
     "exception": false,
     "start_time": "2021-09-27T05:35:03.790865",
     "status": "completed"
    },
    "tags": []
   },
   "outputs": [],
   "source": [
    "\n",
    "import numpy as np \n",
    "import pandas as pd\n",
    "import matplotlib.pyplot as plt\n",
    "%matplotlib inline\n",
    "import seaborn as sns\n",
    "import scipy.stats as stats\n",
    "from sklearn.preprocessing import LabelEncoder, MinMaxScaler\n",
    "from sklearn.model_selection import train_test_split, cross_val_score\n",
    "from sklearn.metrics import recall_score, accuracy_score, classification_report, confusion_matrix\n",
    "from sklearn.linear_model import LogisticRegression\n",
    "from sklearn.neighbors import KNeighborsClassifier\n",
    "from sklearn.ensemble import RandomForestClassifier, GradientBoostingClassifier, AdaBoostClassifier\n",
    "from sklearn.tree import DecisionTreeClassifier\n",
    "from imblearn.combine import SMOTEENN\n",
    "from sklearn.feature_selection import SelectKBest\n",
    "from collections import Counter\n",
    "import warnings\n",
    "warnings.filterwarnings('ignore')\n",
    "import matplotlib.ticker as mtick "
   ]
  },
  {
   "cell_type": "code",
   "execution_count": 3,
   "id": "9b47123c",
   "metadata": {
    "execution": {
     "iopub.execute_input": "2021-09-27T05:35:05.696917Z",
     "iopub.status.busy": "2021-09-27T05:35:05.695852Z",
     "iopub.status.idle": "2021-09-27T05:35:05.787581Z",
     "shell.execute_reply": "2021-09-27T05:35:05.788097Z",
     "shell.execute_reply.started": "2021-09-27T05:28:13.021414Z"
    },
    "papermill": {
     "duration": 0.146199,
     "end_time": "2021-09-27T05:35:05.788291",
     "exception": false,
     "start_time": "2021-09-27T05:35:05.642092",
     "status": "completed"
    },
    "tags": []
   },
   "outputs": [
    {
     "data": {
      "text/html": [
       "<div>\n",
       "<style scoped>\n",
       "    .dataframe tbody tr th:only-of-type {\n",
       "        vertical-align: middle;\n",
       "    }\n",
       "\n",
       "    .dataframe tbody tr th {\n",
       "        vertical-align: top;\n",
       "    }\n",
       "\n",
       "    .dataframe thead th {\n",
       "        text-align: right;\n",
       "    }\n",
       "</style>\n",
       "<table border=\"1\" class=\"dataframe\">\n",
       "  <thead>\n",
       "    <tr style=\"text-align: right;\">\n",
       "      <th></th>\n",
       "      <th>customerID</th>\n",
       "      <th>gender</th>\n",
       "      <th>SeniorCitizen</th>\n",
       "      <th>Partner</th>\n",
       "      <th>Dependents</th>\n",
       "      <th>tenure</th>\n",
       "      <th>PhoneService</th>\n",
       "      <th>MultipleLines</th>\n",
       "      <th>InternetService</th>\n",
       "      <th>OnlineSecurity</th>\n",
       "      <th>...</th>\n",
       "      <th>DeviceProtection</th>\n",
       "      <th>TechSupport</th>\n",
       "      <th>StreamingTV</th>\n",
       "      <th>StreamingMovies</th>\n",
       "      <th>Contract</th>\n",
       "      <th>PaperlessBilling</th>\n",
       "      <th>PaymentMethod</th>\n",
       "      <th>MonthlyCharges</th>\n",
       "      <th>TotalCharges</th>\n",
       "      <th>Churn</th>\n",
       "    </tr>\n",
       "  </thead>\n",
       "  <tbody>\n",
       "    <tr>\n",
       "      <th>0</th>\n",
       "      <td>7590-VHVEG</td>\n",
       "      <td>Female</td>\n",
       "      <td>0</td>\n",
       "      <td>Yes</td>\n",
       "      <td>No</td>\n",
       "      <td>1</td>\n",
       "      <td>No</td>\n",
       "      <td>No phone service</td>\n",
       "      <td>DSL</td>\n",
       "      <td>No</td>\n",
       "      <td>...</td>\n",
       "      <td>No</td>\n",
       "      <td>No</td>\n",
       "      <td>No</td>\n",
       "      <td>No</td>\n",
       "      <td>Month-to-month</td>\n",
       "      <td>Yes</td>\n",
       "      <td>Electronic check</td>\n",
       "      <td>29.85</td>\n",
       "      <td>29.85</td>\n",
       "      <td>No</td>\n",
       "    </tr>\n",
       "    <tr>\n",
       "      <th>1</th>\n",
       "      <td>5575-GNVDE</td>\n",
       "      <td>Male</td>\n",
       "      <td>0</td>\n",
       "      <td>No</td>\n",
       "      <td>No</td>\n",
       "      <td>34</td>\n",
       "      <td>Yes</td>\n",
       "      <td>No</td>\n",
       "      <td>DSL</td>\n",
       "      <td>Yes</td>\n",
       "      <td>...</td>\n",
       "      <td>Yes</td>\n",
       "      <td>No</td>\n",
       "      <td>No</td>\n",
       "      <td>No</td>\n",
       "      <td>One year</td>\n",
       "      <td>No</td>\n",
       "      <td>Mailed check</td>\n",
       "      <td>56.95</td>\n",
       "      <td>1889.5</td>\n",
       "      <td>No</td>\n",
       "    </tr>\n",
       "    <tr>\n",
       "      <th>2</th>\n",
       "      <td>3668-QPYBK</td>\n",
       "      <td>Male</td>\n",
       "      <td>0</td>\n",
       "      <td>No</td>\n",
       "      <td>No</td>\n",
       "      <td>2</td>\n",
       "      <td>Yes</td>\n",
       "      <td>No</td>\n",
       "      <td>DSL</td>\n",
       "      <td>Yes</td>\n",
       "      <td>...</td>\n",
       "      <td>No</td>\n",
       "      <td>No</td>\n",
       "      <td>No</td>\n",
       "      <td>No</td>\n",
       "      <td>Month-to-month</td>\n",
       "      <td>Yes</td>\n",
       "      <td>Mailed check</td>\n",
       "      <td>53.85</td>\n",
       "      <td>108.15</td>\n",
       "      <td>Yes</td>\n",
       "    </tr>\n",
       "    <tr>\n",
       "      <th>3</th>\n",
       "      <td>7795-CFOCW</td>\n",
       "      <td>Male</td>\n",
       "      <td>0</td>\n",
       "      <td>No</td>\n",
       "      <td>No</td>\n",
       "      <td>45</td>\n",
       "      <td>No</td>\n",
       "      <td>No phone service</td>\n",
       "      <td>DSL</td>\n",
       "      <td>Yes</td>\n",
       "      <td>...</td>\n",
       "      <td>Yes</td>\n",
       "      <td>Yes</td>\n",
       "      <td>No</td>\n",
       "      <td>No</td>\n",
       "      <td>One year</td>\n",
       "      <td>No</td>\n",
       "      <td>Bank transfer (automatic)</td>\n",
       "      <td>42.30</td>\n",
       "      <td>1840.75</td>\n",
       "      <td>No</td>\n",
       "    </tr>\n",
       "    <tr>\n",
       "      <th>4</th>\n",
       "      <td>9237-HQITU</td>\n",
       "      <td>Female</td>\n",
       "      <td>0</td>\n",
       "      <td>No</td>\n",
       "      <td>No</td>\n",
       "      <td>2</td>\n",
       "      <td>Yes</td>\n",
       "      <td>No</td>\n",
       "      <td>Fiber optic</td>\n",
       "      <td>No</td>\n",
       "      <td>...</td>\n",
       "      <td>No</td>\n",
       "      <td>No</td>\n",
       "      <td>No</td>\n",
       "      <td>No</td>\n",
       "      <td>Month-to-month</td>\n",
       "      <td>Yes</td>\n",
       "      <td>Electronic check</td>\n",
       "      <td>70.70</td>\n",
       "      <td>151.65</td>\n",
       "      <td>Yes</td>\n",
       "    </tr>\n",
       "  </tbody>\n",
       "</table>\n",
       "<p>5 rows × 21 columns</p>\n",
       "</div>"
      ],
      "text/plain": [
       "   customerID  gender  SeniorCitizen Partner Dependents  tenure PhoneService  \\\n",
       "0  7590-VHVEG  Female              0     Yes         No       1           No   \n",
       "1  5575-GNVDE    Male              0      No         No      34          Yes   \n",
       "2  3668-QPYBK    Male              0      No         No       2          Yes   \n",
       "3  7795-CFOCW    Male              0      No         No      45           No   \n",
       "4  9237-HQITU  Female              0      No         No       2          Yes   \n",
       "\n",
       "      MultipleLines InternetService OnlineSecurity  ... DeviceProtection  \\\n",
       "0  No phone service             DSL             No  ...               No   \n",
       "1                No             DSL            Yes  ...              Yes   \n",
       "2                No             DSL            Yes  ...               No   \n",
       "3  No phone service             DSL            Yes  ...              Yes   \n",
       "4                No     Fiber optic             No  ...               No   \n",
       "\n",
       "  TechSupport StreamingTV StreamingMovies        Contract PaperlessBilling  \\\n",
       "0          No          No              No  Month-to-month              Yes   \n",
       "1          No          No              No        One year               No   \n",
       "2          No          No              No  Month-to-month              Yes   \n",
       "3         Yes          No              No        One year               No   \n",
       "4          No          No              No  Month-to-month              Yes   \n",
       "\n",
       "               PaymentMethod MonthlyCharges  TotalCharges Churn  \n",
       "0           Electronic check          29.85         29.85    No  \n",
       "1               Mailed check          56.95        1889.5    No  \n",
       "2               Mailed check          53.85        108.15   Yes  \n",
       "3  Bank transfer (automatic)          42.30       1840.75    No  \n",
       "4           Electronic check          70.70        151.65   Yes  \n",
       "\n",
       "[5 rows x 21 columns]"
      ]
     },
     "execution_count": 3,
     "metadata": {},
     "output_type": "execute_result"
    }
   ],
   "source": [
    "data = pd.read_csv('/kaggle/input/telco-customer-churn/WA_Fn-UseC_-Telco-Customer-Churn.csv')\n",
    "data.head()"
   ]
  },
  {
   "cell_type": "code",
   "execution_count": 5,
   "id": "1e21e991",
   "metadata": {
    "execution": {
     "iopub.execute_input": "2021-09-27T05:35:06.106672Z",
     "iopub.status.busy": "2021-09-27T05:35:06.103727Z",
     "iopub.status.idle": "2021-09-27T05:35:06.111103Z",
     "shell.execute_reply": "2021-09-27T05:35:06.110489Z",
     "shell.execute_reply.started": "2021-09-27T05:28:13.120209Z"
    },
    "papermill": {
     "duration": 0.068982,
     "end_time": "2021-09-27T05:35:06.111268",
     "exception": false,
     "start_time": "2021-09-27T05:35:06.042286",
     "status": "completed"
    },
    "tags": []
   },
   "outputs": [],
   "source": [
    "data['TotalCharges'] = pd.to_numeric(data['TotalCharges'], errors='coerce')"
   ]
  },
  {
   "cell_type": "code",
   "execution_count": 6,
   "id": "33f9369e",
   "metadata": {
    "execution": {
     "iopub.execute_input": "2021-09-27T05:35:06.301591Z",
     "iopub.status.busy": "2021-09-27T05:35:06.300834Z",
     "iopub.status.idle": "2021-09-27T05:35:06.309936Z",
     "shell.execute_reply": "2021-09-27T05:35:06.308759Z",
     "shell.execute_reply.started": "2021-09-27T05:28:13.141834Z"
    },
    "papermill": {
     "duration": 0.058329,
     "end_time": "2021-09-27T05:35:06.310244",
     "exception": false,
     "start_time": "2021-09-27T05:35:06.251915",
     "status": "completed"
    },
    "tags": []
   },
   "outputs": [
    {
     "name": "stdout",
     "output_type": "stream",
     "text": [
      "Count of Numerical feature: 4\n",
      "Numerical feature are:\n",
      " {'MonthlyCharges', 'SeniorCitizen', 'tenure', 'TotalCharges'}\n"
     ]
    }
   ],
   "source": [
    "numerical_feature = {feature for feature in data.columns if data[feature].dtypes != 'O'}\n",
    "print(f'Count of Numerical feature: {len(numerical_feature)}')\n",
    "print(f'Numerical feature are:\\n {numerical_feature}')"
   ]
  },
  {
   "cell_type": "code",
   "execution_count": 30,
   "id": "ab4e63b7",
   "metadata": {
    "execution": {
     "iopub.execute_input": "2021-09-27T05:35:26.185846Z",
     "iopub.status.busy": "2021-09-27T05:35:26.185139Z",
     "iopub.status.idle": "2021-09-27T05:35:26.295192Z",
     "shell.execute_reply": "2021-09-27T05:35:26.296075Z",
     "shell.execute_reply.started": "2021-09-27T05:28:26.403520Z"
    },
    "papermill": {
     "duration": 0.198672,
     "end_time": "2021-09-27T05:35:26.296370",
     "exception": false,
     "start_time": "2021-09-27T05:35:26.097698",
     "status": "completed"
    },
    "tags": []
   },
   "outputs": [
    {
     "name": "stdout",
     "output_type": "stream",
     "text": [
      "Accuracy score : 0.8133427963094393\n",
      "Confusion matrix :\n",
      " [[936 151]\n",
      " [112 210]]\n",
      "Classification report :\n",
      "               precision    recall  f1-score   support\n",
      "\n",
      "           0       0.89      0.86      0.88      1087\n",
      "           1       0.58      0.65      0.61       322\n",
      "\n",
      "    accuracy                           0.81      1409\n",
      "   macro avg       0.74      0.76      0.75      1409\n",
      "weighted avg       0.82      0.81      0.82      1409\n",
      "\n"
     ]
    }
   ],
   "source": [
    "Log_reg = LogisticRegression(C=150, max_iter=150)\n",
    "Log_reg.fit(X_train, y_train)\n",
    "log_pred = Log_reg.predict(X_test)\n",
    "\n",
    "print(f'Accuracy score : {accuracy_score(log_pred, y_test)}')\n",
    "print(f'Confusion matrix :\\n {confusion_matrix(log_pred, y_test)}')\n",
    "print(f'Classification report :\\n {classification_report(log_pred, y_test)}')"
   ]
  },
  {
   "cell_type": "code",
   "execution_count": 31,
   "id": "43163e47",
   "metadata": {
    "execution": {
     "iopub.execute_input": "2021-09-27T05:35:26.515615Z",
     "iopub.status.busy": "2021-09-27T05:35:26.514853Z",
     "iopub.status.idle": "2021-09-27T05:35:27.289529Z",
     "shell.execute_reply": "2021-09-27T05:35:27.288471Z",
     "shell.execute_reply.started": "2021-09-27T05:28:26.486247Z"
    },
    "papermill": {
     "duration": 0.865435,
     "end_time": "2021-09-27T05:35:27.289783",
     "exception": false,
     "start_time": "2021-09-27T05:35:26.424348",
     "status": "completed"
    },
    "tags": []
   },
   "outputs": [
    {
     "name": "stdout",
     "output_type": "stream",
     "text": [
      "Accuracy score : 0.8197303051809794\n",
      "Confusion matrix :\n",
      " [[963 169]\n",
      " [ 85 192]]\n",
      "Classification report :\n",
      "               precision    recall  f1-score   support\n",
      "\n",
      "           0       0.92      0.85      0.88      1132\n",
      "           1       0.53      0.69      0.60       277\n",
      "\n",
      "    accuracy                           0.82      1409\n",
      "   macro avg       0.73      0.77      0.74      1409\n",
      "weighted avg       0.84      0.82      0.83      1409\n",
      "\n"
     ]
    }
   ],
   "source": [
    "# 隨機森林\n",
    "Rfc = RandomForestClassifier(n_estimators=120,criterion='gini', max_depth=15, min_samples_leaf=10, min_samples_split=5)\n",
    "Rfc.fit(X_train, y_train)\n",
    "rfc_pred = Rfc.predict(X_test)\n",
    "\n",
    "print(f'Accuracy score : {accuracy_score(rfc_pred, y_test)}')\n",
    "print(f'Confusion matrix :\\n {confusion_matrix(rfc_pred, y_test)}')\n",
    "print(f'Classification report :\\n {classification_report(rfc_pred, y_test)}')"
   ]
  },
  {
   "cell_type": "code",
   "execution_count": 32,
   "id": "6a51f6fe",
   "metadata": {
    "execution": {
     "iopub.execute_input": "2021-09-27T05:35:27.475261Z",
     "iopub.status.busy": "2021-09-27T05:35:27.474531Z",
     "iopub.status.idle": "2021-09-27T05:35:27.494790Z",
     "shell.execute_reply": "2021-09-27T05:35:27.495358Z",
     "shell.execute_reply.started": "2021-09-27T05:28:27.228459Z"
    },
    "papermill": {
     "duration": 0.116659,
     "end_time": "2021-09-27T05:35:27.495542",
     "exception": false,
     "start_time": "2021-09-27T05:35:27.378883",
     "status": "completed"
    },
    "tags": []
   },
   "outputs": [
    {
     "name": "stdout",
     "output_type": "stream",
     "text": [
      "Accuracy score : 0.8041163946061036\n",
      "Confusion matrix :\n",
      " [[944 172]\n",
      " [104 189]]\n",
      "Classification report :\n",
      "               precision    recall  f1-score   support\n",
      "\n",
      "           0       0.90      0.85      0.87      1116\n",
      "           1       0.52      0.65      0.58       293\n",
      "\n",
      "    accuracy                           0.80      1409\n",
      "   macro avg       0.71      0.75      0.73      1409\n",
      "weighted avg       0.82      0.80      0.81      1409\n",
      "\n"
     ]
    }
   ],
   "source": [
    "#决策树\n",
    "Dtc = DecisionTreeClassifier(criterion='gini', splitter='random', min_samples_leaf=15)\n",
    "Dtc.fit(X_train, y_train)\n",
    "dtc_pred = Dtc.predict(X_test)\n",
    "\n",
    "print(f'Accuracy score : {accuracy_score(dtc_pred, y_test)}')\n",
    "print(f'Confusion matrix :\\n {confusion_matrix(dtc_pred, y_test)}')\n",
    "print(f'Classification report :\\n {classification_report(dtc_pred, y_test)}')"
   ]
  },
  {
   "cell_type": "code",
   "execution_count": 33,
   "id": "747df9ae",
   "metadata": {
    "execution": {
     "iopub.execute_input": "2021-09-27T05:35:27.675926Z",
     "iopub.status.busy": "2021-09-27T05:35:27.675268Z",
     "iopub.status.idle": "2021-09-27T05:35:41.202912Z",
     "shell.execute_reply": "2021-09-27T05:35:41.202312Z",
     "shell.execute_reply.started": "2021-09-27T05:28:27.251789Z"
    },
    "papermill": {
     "duration": 13.617708,
     "end_time": "2021-09-27T05:35:41.203055",
     "exception": false,
     "start_time": "2021-09-27T05:35:27.585347",
     "status": "completed"
    },
    "tags": []
   },
   "outputs": [],
   "source": [
    "BK_value = []\n",
    "for x in range(1, 100):\n",
    "    Knn = KNeighborsClassifier(n_neighbors=x, p=2)\n",
    "    Knn.fit(X_train, y_train)\n",
    "    knn_pred = Knn.predict(X_test)\n",
    "    BK_value.append(np.mean(knn_pred != y_test))"
   ]
  },
  {
   "cell_type": "code",
   "execution_count": 35,
   "id": "7b6b96d0",
   "metadata": {
    "execution": {
     "iopub.execute_input": "2021-09-27T05:35:42.029937Z",
     "iopub.status.busy": "2021-09-27T05:35:42.029251Z",
     "iopub.status.idle": "2021-09-27T05:35:42.195101Z",
     "shell.execute_reply": "2021-09-27T05:35:42.194295Z",
     "shell.execute_reply.started": "2021-09-27T05:28:40.253091Z"
    },
    "papermill": {
     "duration": 0.262041,
     "end_time": "2021-09-27T05:35:42.195372",
     "exception": false,
     "start_time": "2021-09-27T05:35:41.933331",
     "status": "completed"
    },
    "tags": []
   },
   "outputs": [],
   "source": [
    "Knn = KNeighborsClassifier(n_neighbors=64, p=2)\n",
    "Knn.fit(X_train, y_train)\n",
    "knn_pred = Knn.predict(X_test)"
   ]
  },
  {
   "cell_type": "code",
   "execution_count": 36,
   "id": "38fb68e1",
   "metadata": {
    "execution": {
     "iopub.execute_input": "2021-09-27T05:35:42.407854Z",
     "iopub.status.busy": "2021-09-27T05:35:42.406820Z",
     "iopub.status.idle": "2021-09-27T05:35:42.421513Z",
     "shell.execute_reply": "2021-09-27T05:35:42.422439Z",
     "shell.execute_reply.started": "2021-09-27T05:28:40.401809Z"
    },
    "papermill": {
     "duration": 0.122175,
     "end_time": "2021-09-27T05:35:42.422671",
     "exception": false,
     "start_time": "2021-09-27T05:35:42.300496",
     "status": "completed"
    },
    "tags": []
   },
   "outputs": [
    {
     "name": "stdout",
     "output_type": "stream",
     "text": [
      "Accuracy score : 0.8126330731014905\n",
      "Confusion matrix :\n",
      " [[962 178]\n",
      " [ 86 183]]\n",
      "Classification report :\n",
      "               precision    recall  f1-score   support\n",
      "\n",
      "           0       0.92      0.84      0.88      1140\n",
      "           1       0.51      0.68      0.58       269\n",
      "\n",
      "    accuracy                           0.81      1409\n",
      "   macro avg       0.71      0.76      0.73      1409\n",
      "weighted avg       0.84      0.81      0.82      1409\n",
      "\n"
     ]
    }
   ],
   "source": [
    "print(f'Accuracy score : {accuracy_score(knn_pred, y_test)}')\n",
    "print(f'Confusion matrix :\\n {confusion_matrix(knn_pred, y_test)}')\n",
    "print(f'Classification report :\\n {classification_report(knn_pred, y_test)}')"
   ]
  },
  {
   "cell_type": "code",
   "execution_count": 37,
   "id": "6d5cbdbe",
   "metadata": {
    "execution": {
     "iopub.execute_input": "2021-09-27T05:35:42.973646Z",
     "iopub.status.busy": "2021-09-27T05:35:42.972965Z",
     "iopub.status.idle": "2021-09-27T05:35:43.290078Z",
     "shell.execute_reply": "2021-09-27T05:35:43.290934Z",
     "shell.execute_reply.started": "2021-09-27T05:28:40.419780Z"
    },
    "papermill": {
     "duration": 0.409331,
     "end_time": "2021-09-27T05:35:43.291124",
     "exception": false,
     "start_time": "2021-09-27T05:35:42.881793",
     "status": "completed"
    },
    "tags": []
   },
   "outputs": [
    {
     "name": "stdout",
     "output_type": "stream",
     "text": [
      "The number of classes before fit Counter({0: 4126, 1: 1508})\n",
      "The number of classes after fit Counter({0: 2441, 1: 2416})\n"
     ]
    }
   ],
   "source": [
    "st=SMOTEENN()\n",
    "X_train_st,y_train_st = st.fit_resample(X_train, y_train)\n",
    "print(\"The number of classes before fit {}\".format(Counter(y_train)))\n",
    "print(\"The number of classes after fit {}\".format(Counter(y_train_st)))"
   ]
  },
  {
   "cell_type": "code",
   "execution_count": 38,
   "id": "ce6b2508",
   "metadata": {
    "execution": {
     "iopub.execute_input": "2021-09-27T05:35:43.473547Z",
     "iopub.status.busy": "2021-09-27T05:35:43.472884Z",
     "iopub.status.idle": "2021-09-27T05:35:43.476079Z",
     "shell.execute_reply": "2021-09-27T05:35:43.476584Z",
     "shell.execute_reply.started": "2021-09-27T05:28:40.732949Z"
    },
    "papermill": {
     "duration": 0.098296,
     "end_time": "2021-09-27T05:35:43.476759",
     "exception": false,
     "start_time": "2021-09-27T05:35:43.378463",
     "status": "completed"
    },
    "tags": []
   },
   "outputs": [],
   "source": [
    "# 拆分数据集\n",
    "X_train_sap, X_test_sap, y_train_sap, y_test_sap = train_test_split(X_train_st, y_train_st, test_size=0.2)"
   ]
  },
  {
   "cell_type": "code",
   "execution_count": 39,
   "id": "50e7f15d",
   "metadata": {
    "execution": {
     "iopub.execute_input": "2021-09-27T05:35:43.665262Z",
     "iopub.status.busy": "2021-09-27T05:35:43.664276Z",
     "iopub.status.idle": "2021-09-27T05:35:43.688781Z",
     "shell.execute_reply": "2021-09-27T05:35:43.689294Z",
     "shell.execute_reply.started": "2021-09-27T05:28:40.740466Z"
    },
    "papermill": {
     "duration": 0.118473,
     "end_time": "2021-09-27T05:35:43.689468",
     "exception": false,
     "start_time": "2021-09-27T05:35:43.570995",
     "status": "completed"
    },
    "tags": []
   },
   "outputs": [
    {
     "name": "stdout",
     "output_type": "stream",
     "text": [
      "Accuracy score : 0.9300411522633745\n",
      "Confusion matrix :\n",
      " [[447  25]\n",
      " [ 43 457]]\n",
      "Classification report :\n",
      "               precision    recall  f1-score   support\n",
      "\n",
      "           0       0.91      0.95      0.93       472\n",
      "           1       0.95      0.91      0.93       500\n",
      "\n",
      "    accuracy                           0.93       972\n",
      "   macro avg       0.93      0.93      0.93       972\n",
      "weighted avg       0.93      0.93      0.93       972\n",
      "\n"
     ]
    }
   ],
   "source": [
    "#决策树优化\n",
    "Dtc_sampling = DecisionTreeClassifier(criterion = \"gini\",random_state = 100,max_depth=7, min_samples_leaf=15)\n",
    "Dtc_sampling.fit(X_train_sap, y_train_sap)\n",
    "dtc_sampling_pred = Dtc_sampling.predict(X_test_sap)\n",
    "\n",
    "print(f'Accuracy score : {accuracy_score(dtc_sampling_pred, y_test_sap)}')\n",
    "print(f'Confusion matrix :\\n {confusion_matrix(dtc_sampling_pred, y_test_sap)}')\n",
    "print(f'Classification report :\\n {classification_report(dtc_sampling_pred, y_test_sap)}')"
   ]
  },
  {
   "cell_type": "code",
   "execution_count": 40,
   "id": "be9f4a12",
   "metadata": {
    "execution": {
     "iopub.execute_input": "2021-09-27T05:35:43.869289Z",
     "iopub.status.busy": "2021-09-27T05:35:43.868116Z",
     "iopub.status.idle": "2021-09-27T05:35:44.537366Z",
     "shell.execute_reply": "2021-09-27T05:35:44.537978Z",
     "shell.execute_reply.started": "2021-09-27T05:28:40.769409Z"
    },
    "papermill": {
     "duration": 0.760963,
     "end_time": "2021-09-27T05:35:44.538172",
     "exception": false,
     "start_time": "2021-09-27T05:35:43.777209",
     "status": "completed"
    },
    "tags": []
   },
   "outputs": [
    {
     "name": "stdout",
     "output_type": "stream",
     "text": [
      "Accuracy score : 0.9444444444444444\n",
      "Confusion matrix :\n",
      " [[463  27]\n",
      " [ 27 455]]\n",
      "Classification report :\n",
      "               precision    recall  f1-score   support\n",
      "\n",
      "           0       0.94      0.94      0.94       490\n",
      "           1       0.94      0.94      0.94       482\n",
      "\n",
      "    accuracy                           0.94       972\n",
      "   macro avg       0.94      0.94      0.94       972\n",
      "weighted avg       0.94      0.94      0.94       972\n",
      "\n"
     ]
    }
   ],
   "source": [
    "# Random forest classifier\n",
    "Rfc_sampling = RandomForestClassifier(n_estimators=150,criterion='gini', max_depth=15, min_samples_leaf=10, min_samples_split=6)\n",
    "Rfc_sampling.fit(X_train_sap, y_train_sap)\n",
    "rfc_sampling_pred = Rfc_sampling.predict(X_test_sap)\n",
    "\n",
    "print(f'Accuracy score : {accuracy_score(rfc_sampling_pred, y_test_sap)}')\n",
    "print(f'Confusion matrix :\\n {confusion_matrix(rfc_sampling_pred, y_test_sap)}')\n",
    "print(f'Classification report :\\n {classification_report(rfc_sampling_pred, y_test_sap)}')"
   ]
  },
  {
   "cell_type": "code",
   "execution_count": 41,
   "id": "dff8b499",
   "metadata": {
    "execution": {
     "iopub.execute_input": "2021-09-27T05:35:44.730400Z",
     "iopub.status.busy": "2021-09-27T05:35:44.722062Z",
     "iopub.status.idle": "2021-09-27T05:35:44.790861Z",
     "shell.execute_reply": "2021-09-27T05:35:44.792559Z",
     "shell.execute_reply.started": "2021-09-27T05:28:41.401620Z"
    },
    "papermill": {
     "duration": 0.166572,
     "end_time": "2021-09-27T05:35:44.792893",
     "exception": false,
     "start_time": "2021-09-27T05:35:44.626321",
     "status": "completed"
    },
    "tags": []
   },
   "outputs": [
    {
     "name": "stdout",
     "output_type": "stream",
     "text": [
      "Accuracy score : 0.9259259259259259\n",
      "Confusion matrix :\n",
      " [[447  29]\n",
      " [ 43 453]]\n",
      "Classification report :\n",
      "               precision    recall  f1-score   support\n",
      "\n",
      "           0       0.91      0.94      0.93       476\n",
      "           1       0.94      0.91      0.93       496\n",
      "\n",
      "    accuracy                           0.93       972\n",
      "   macro avg       0.93      0.93      0.93       972\n",
      "weighted avg       0.93      0.93      0.93       972\n",
      "\n"
     ]
    }
   ],
   "source": [
    "Log_reg_sampling = LogisticRegression(C=10, max_iter=150)\n",
    "Log_reg_sampling.fit(X_train_sap, y_train_sap)\n",
    "Log_sampling_pred = Log_reg_sampling.predict(X_test_sap)\n",
    "\n",
    "print(f'Accuracy score : {accuracy_score(Log_sampling_pred, y_test_sap)}')\n",
    "print(f'Confusion matrix :\\n {confusion_matrix(Log_sampling_pred, y_test_sap)}')\n",
    "print(f'Classification report :\\n {classification_report(Log_sampling_pred, y_test_sap)}')"
   ]
  },
  {
   "cell_type": "code",
   "execution_count": 42,
   "id": "f3860bee",
   "metadata": {
    "execution": {
     "iopub.execute_input": "2021-09-27T05:35:45.024122Z",
     "iopub.status.busy": "2021-09-27T05:35:45.023004Z",
     "iopub.status.idle": "2021-09-27T05:35:45.104961Z",
     "shell.execute_reply": "2021-09-27T05:35:45.104361Z",
     "shell.execute_reply.started": "2021-09-27T05:28:41.468884Z"
    },
    "papermill": {
     "duration": 0.178555,
     "end_time": "2021-09-27T05:35:45.105105",
     "exception": false,
     "start_time": "2021-09-27T05:35:44.926550",
     "status": "completed"
    },
    "tags": []
   },
   "outputs": [
    {
     "name": "stdout",
     "output_type": "stream",
     "text": [
      "Accuracy score : 0.9763374485596708\n",
      "Confusion matrix :\n",
      " [[472   5]\n",
      " [ 18 477]]\n",
      "Classification report :\n",
      "               precision    recall  f1-score   support\n",
      "\n",
      "           0       0.96      0.99      0.98       477\n",
      "           1       0.99      0.96      0.98       495\n",
      "\n",
      "    accuracy                           0.98       972\n",
      "   macro avg       0.98      0.98      0.98       972\n",
      "weighted avg       0.98      0.98      0.98       972\n",
      "\n"
     ]
    }
   ],
   "source": [
    "Knn_sampling = KNeighborsClassifier(n_neighbors=3, p=2)  \n",
    "Knn_sampling.fit(X_train_sap, y_train_sap)\n",
    "knn_sampling_pred = Knn_sampling.predict(X_test_sap)\n",
    "\n",
    "print(f'Accuracy score : {accuracy_score(knn_sampling_pred, y_test_sap)}')\n",
    "print(f'Confusion matrix :\\n {confusion_matrix(knn_sampling_pred, y_test_sap)}')\n",
    "print(f'Classification report :\\n {classification_report(knn_sampling_pred, y_test_sap)}')"
   ]
  }
 ],
 "metadata": {
  "kernelspec": {
   "display_name": "Python 3",
   "language": "python",
   "name": "python3"
  },
  "language_info": {
   "codemirror_mode": {
    "name": "ipython",
    "version": 3
   },
   "file_extension": ".py",
   "mimetype": "text/x-python",
   "name": "python",
   "nbconvert_exporter": "python",
   "pygments_lexer": "ipython3",
   "version": "3.7.10"
  },
  "papermill": {
   "default_parameters": {},
   "duration": 52.969836,
   "end_time": "2021-09-27T05:35:47.085083",
   "environment_variables": {},
   "exception": null,
   "input_path": "__notebook__.ipynb",
   "output_path": "__notebook__.ipynb",
   "parameters": {},
   "start_time": "2021-09-27T05:34:54.115247",
   "version": "2.3.3"
  }
 },
 "nbformat": 4,
 "nbformat_minor": 5
}
