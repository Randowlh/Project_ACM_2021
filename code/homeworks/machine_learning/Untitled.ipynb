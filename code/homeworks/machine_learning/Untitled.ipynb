{
 "cells": [
  {
   "cell_type": "markdown",
   "metadata": {},
   "source": [
    "# 读取包"
   ]
  },
  {
   "cell_type": "code",
   "execution_count": 122,
   "metadata": {},
   "outputs": [],
   "source": [
    "import pandas as pd\n",
    "import numpy as np"
   ]
  },
  {
   "cell_type": "code",
   "execution_count": 187,
   "metadata": {
    "scrolled": false
   },
   "outputs": [],
   "source": [
    "data = pd.read_csv('train.csv')\n",
    "#读取文件"
   ]
  },
  {
   "cell_type": "markdown",
   "metadata": {},
   "source": [
    "# 算法构建"
   ]
  },
  {
   "cell_type": "code",
   "execution_count": 154,
   "metadata": {},
   "outputs": [],
   "source": [
    "def knn(v1,k,t_data):\n",
    "    t_data['op'] = ''\n",
    "    #构建循环\n",
    "    for index,row in data.iterrows():\n",
    "        vector2 = row[0:4].values\n",
    "        #转换为可计算的np.arry格式\n",
    "        row['op'] = np.linalg.norm(vector1-vector2)\n",
    "        #计算两点之间的欧氏距离\n",
    "        t_data.iloc[index] = row\n",
    "        \n",
    "    t_data = t_data.sort_values(by = 'op', ascending = True)\n",
    "    #按照op升序排序\n",
    "    t_data = t_data.iloc[:k]\n",
    "    #去距离最小的k个值\n",
    "    ans = t_data['species'].mode().iloc[0]\n",
    "    #选取众数作为输出\n",
    "    return ans"
   ]
  },
  {
   "cell_type": "markdown",
   "metadata": {},
   "source": [
    "# 导入文件测试"
   ]
  },
  {
   "cell_type": "code",
   "execution_count": 174,
   "metadata": {},
   "outputs": [],
   "source": [
    "test = pd.read_csv('test .csv')"
   ]
  },
  {
   "cell_type": "code",
   "execution_count": 183,
   "metadata": {},
   "outputs": [],
   "source": [
    "test['species'] =  ''\n",
    "#循环，对df每一行进行knn计算\n",
    "for index,row in test.iterrows():\n",
    "        v = row[1:5].values\n",
    "        row['species'] = knn(v,1,data)\n",
    "        test.iloc[index] = row"
   ]
  },
  {
   "cell_type": "markdown",
   "metadata": {},
   "source": [
    "# 结果导出"
   ]
  },
  {
   "cell_type": "code",
   "execution_count": 186,
   "metadata": {},
   "outputs": [],
   "source": [
    "out = test[['Id','species']]\n",
    "out.to_csv('answer.csv',index=False)"
   ]
  },
  {
   "cell_type": "code",
   "execution_count": null,
   "metadata": {},
   "outputs": [],
   "source": []
  }
 ],
 "metadata": {
  "kernelspec": {
   "display_name": "Python 3",
   "language": "python",
   "name": "python3"
  },
  "language_info": {
   "codemirror_mode": {
    "name": "ipython",
    "version": 3
   },
   "file_extension": ".py",
   "mimetype": "text/x-python",
   "name": "python",
   "nbconvert_exporter": "python",
   "pygments_lexer": "ipython3",
   "version": "3.7.0"
  }
 },
 "nbformat": 4,
 "nbformat_minor": 2
}
